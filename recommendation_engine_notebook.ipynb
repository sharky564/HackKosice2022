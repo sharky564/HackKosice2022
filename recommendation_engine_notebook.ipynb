{
 "cells": [
  {
   "cell_type": "code",
   "execution_count": 1,
   "metadata": {},
   "outputs": [],
   "source": [
    "import pandas as pd\n",
    "import numpy as np"
   ]
  },
  {
   "cell_type": "code",
   "execution_count": 175,
   "metadata": {},
   "outputs": [],
   "source": [
    "EDGE_MULTIPLIER = 0.8"
   ]
  },
  {
   "cell_type": "code",
   "execution_count": 3,
   "metadata": {},
   "outputs": [],
   "source": [
    "catalog_items = pd.read_csv('catalog_items.csv')\n",
    "# purchased_products = pd.read_csv('purchased_producs.csv')\n",
    "target_group = pd.read_csv('target_group.csv')['customer_id'].tolist()\n",
    "visited_products = pd.read_csv('visited_products.csv')\n",
    "\n",
    "# print(catalog_items)\n",
    "# print(purchased_products)\n",
    "# print(target_group)\n",
    "# print(visited_products)"
   ]
  },
  {
   "cell_type": "code",
   "execution_count": 176,
   "metadata": {},
   "outputs": [],
   "source": [
    "class Graph():\n",
    "    def __init__(self, products):\n",
    "        n = len(products) # number of products\n",
    "        bijection = list(enumerate(products))\n",
    "        self.vertex_to_product = {bijection[i][0]: bijection[i][1] for i in range(n)}\n",
    "        self.product_to_vertex = {bijection[i][1]: bijection[i][0] for i in range(n)}\n",
    "        self.edges = {i: dict() for i in range(n)}\n",
    "    \n",
    "    def __repr__(self):\n",
    "        return f\"Graph with {len(self.vertex_to_product)} products\"\n",
    "    \n",
    "    def update_edge(self, prod_1, prod_2, weight): # v1 --> v2, v2 -> v1\n",
    "        v1 = self.product_to_vertex[prod_1]\n",
    "        v2 = self.product_to_vertex[prod_2]\n",
    "        if v2 not in self.edges[v1]:\n",
    "            self.edges[v1][v2] = 0\n",
    "        if v1 not in self.edges[v2]:\n",
    "            self.edges[v2][v1] = 0\n",
    "        self.edges[v1][v2] += min(weight, 1) # add to edge weight\n",
    "        self.edges[v2][v1] += min(weight, 1) * EDGE_MULTIPLIER # add to edge weight"
   ]
  },
  {
   "cell_type": "code",
   "execution_count": null,
   "metadata": {},
   "outputs": [],
   "source": []
  },
  {
   "cell_type": "code",
   "execution_count": null,
   "metadata": {},
   "outputs": [],
   "source": []
  },
  {
   "cell_type": "code",
   "execution_count": null,
   "metadata": {},
   "outputs": [],
   "source": []
  },
  {
   "cell_type": "code",
   "execution_count": null,
   "metadata": {},
   "outputs": [],
   "source": []
  },
  {
   "cell_type": "code",
   "execution_count": 177,
   "metadata": {},
   "outputs": [
    {
     "name": "stdout",
     "output_type": "stream",
     "text": [
      "Graph with 112561 products\n"
     ]
    }
   ],
   "source": [
    "products = catalog_items['product_id'].tolist()\n",
    "graph = Graph(products)\n",
    "print(graph)"
   ]
  },
  {
   "cell_type": "code",
   "execution_count": null,
   "metadata": {},
   "outputs": [],
   "source": []
  },
  {
   "cell_type": "code",
   "execution_count": null,
   "metadata": {},
   "outputs": [],
   "source": []
  },
  {
   "cell_type": "code",
   "execution_count": null,
   "metadata": {},
   "outputs": [],
   "source": []
  },
  {
   "cell_type": "code",
   "execution_count": 6,
   "metadata": {},
   "outputs": [],
   "source": [
    "# This part of the code creates the lists of products the people visited, in chronological order.\n",
    "# Independent of the graph itself, so no need to run again after initialisation.\n",
    "from datetime import datetime\n",
    "\n",
    "def convert_to_seconds(date_time):\n",
    "    date_time = date_time[:-6] # remove timezone info\n",
    "    try:\n",
    "        date_time = datetime.strptime(date_time, '%Y-%m-%d %H:%M:%S.%f')\n",
    "    except Exception as err:\n",
    "        return None\n",
    "    return (date_time - datetime(2000, 1, 1)).total_seconds()\n",
    "\n",
    "find_category = dict()\n",
    "M = len(catalog_items['product_id'])\n",
    "for i in range(M):\n",
    "    prod_id = catalog_items['product_id'][i]\n",
    "    category = catalog_items['category'][i]\n",
    "    find_category[prod_id] = category\n",
    "\n",
    "find_subcategory = dict()\n",
    "for i in range(M):\n",
    "    prod_id = catalog_items['product_id'][i]\n",
    "    subcategory = catalog_items['subcategory'][i]\n",
    "    find_subcategory[prod_id] = subcategory\n",
    "    \n",
    "\n",
    "customer_adjacency = dict()\n",
    "\n",
    "customers = visited_products['customer_id'].unique().tolist()\n",
    "N = len(customers)\n",
    "\n",
    "for i in range(N):\n",
    "    cust_id = visited_products[\"customer_id\"][i]\n",
    "    prod_id = visited_products[\"product_id\"][i]\n",
    "    if prod_id not in find_category:\n",
    "        continue\n",
    "    \n",
    "    time = convert_to_seconds(visited_products[\"timestamp\"][i])\n",
    "    if time == None:\n",
    "        continue\n",
    "    price = visited_products[\"price\"][i]\n",
    "    # have: cust_id, prod_id, time, price\n",
    "    # for now, only need the time, and the product.\n",
    "    if cust_id in customer_adjacency:\n",
    "        customer_adjacency[cust_id].append([time, prod_id])\n",
    "    else:\n",
    "        customer_adjacency[cust_id] = [[time, prod_id]]\n",
    "        "
   ]
  },
  {
   "cell_type": "code",
   "execution_count": 178,
   "metadata": {},
   "outputs": [],
   "source": [
    "# This part of the code adds edges to the graph, after traversing through the \"path\" of products\n",
    "# that each customer has obtained.\n",
    "# To make shit easier (while Sharvil finishes the graph implementation): we will store stuff\n",
    "# in a list, or something\n",
    "\n",
    "# Only use 80% of the test cases, and use the rest 20% for testing.\n",
    "edges = []\n",
    "num_clicks = dict()\n",
    "for customer in customer_adjacency:\n",
    "    customer_adjacency[customer].sort(key = lambda x: x[0])\n",
    "    # for reference: customer_adjacency[customer] gives the pairs of information [time, product they searched] in a list.\n",
    "    # compute: sum of adjacencies\n",
    "    for node in customer_adjacency[customer]:\n",
    "        prod_id = node[1]\n",
    "        if prod_id not in num_clicks:\n",
    "            num_clicks[prod_id] = 0\n",
    "        num_clicks[prod_id] += 1\n",
    "    # next: need to add stuff to the graph.\n",
    "    views = len(customer_adjacency[customer])\n",
    "    for i in range(1, views):\n",
    "        old_time, old_prod = tuple(customer_adjacency[customer][i-1])\n",
    "        new_time, new_prod = tuple(customer_adjacency[customer][i])\n",
    "        curr_category = find_category[old_prod]\n",
    "        if old_prod == new_prod:\n",
    "#             print(customer_adjacency[customer][i-1], customer_adjacency[customer][i])\n",
    "            continue\n",
    "        # add edges?\n",
    "#         edges.append([old_prod, new_prod, new_time - old_time])\n",
    "        if new_time != old_time:\n",
    "            score = 10\n",
    "            graph.update_edge(old_prod, new_prod, score)"
   ]
  },
  {
   "cell_type": "code",
   "execution_count": 179,
   "metadata": {},
   "outputs": [],
   "source": [
    "# metric for most popular = most number of clicks\n",
    "best_five_recommend = sorted(num_clicks.items(), key = lambda x: -x[1])[:5]"
   ]
  },
  {
   "cell_type": "code",
   "execution_count": 180,
   "metadata": {
    "scrolled": true
   },
   "outputs": [
    {
     "name": "stdout",
     "output_type": "stream",
     "text": [
      "10 [('0049bcbb-205d-4cab-9958-0f87a0f764d7', 937.1999999999923), ('0b3cfce1-8b7d-469d-90c7-d9fbec290270', 412.98146065905627), ('0c9061fb-0b78-4474-8e0b-6f4f021d8791', 368.4680482773131), ('e95855d5-fa06-4501-bcc0-b5008c56519b', 361.47833889505546), ('a8f0292d-5fca-42b9-b0d3-b38e7efa416b', 10909)]\n"
     ]
    }
   ],
   "source": [
    "# CATEGORY_WEIGHT = 1 # best\n",
    "SUBCATEGORY_WEIGHT = 1 # best\n",
    "for CATEGORY_WEIGHT in [1]:\n",
    "    for DECAY_PARAMETER in [1]:\n",
    "        def recommendations(customer):\n",
    "            if customer not in customer_adjacency:\n",
    "                return best_five_recommend\n",
    "            else:\n",
    "                path = customer_adjacency[customer][::-1]\n",
    "                adjacent_nodes = dict()\n",
    "                i = 0\n",
    "                for i in range(len(path)):\n",
    "                    node = path[i]\n",
    "                    bad_nodes = []\n",
    "                    if i != 0:\n",
    "                        bad_nodes.append(path[i-1])\n",
    "                    elif i != len(path) - 1:\n",
    "                        bad_nodes.append(path[i+1])\n",
    "                    category = find_category[node[1]]\n",
    "                    prod_id = graph.product_to_vertex[node[1]]\n",
    "                    adjacent_dict_of_weights = graph.edges[prod_id]\n",
    "                    for adj_node in adjacent_dict_of_weights:\n",
    "                        if adj_node not in bad_nodes:\n",
    "                            weight = graph.edges[prod_id][adj_node]\n",
    "                            if find_category[graph.vertex_to_product[adj_node]] == find_category[node[1]]:\n",
    "                                weight *= CATEGORY_WEIGHT\n",
    "                                if find_subcategory[graph.vertex_to_product[adj_node]] == find_subcategory[node[1]]:\n",
    "                                    weight *= SUBCATEGORY_WEIGHT\n",
    "                            decay = np.exp(-DECAY_PARAMETER*i) # This is current best model\n",
    "        #                     decay = np.exp((path[0][0] - node[0])/1e+5)\n",
    "#                             if path[0][0] - node[0] < -1800:\n",
    "#                                 decay = np.exp(-2*i)\n",
    "#                             else:\n",
    "#                                 decay = 1\n",
    "                            if adj_node not in adjacent_nodes:\n",
    "                                adjacent_nodes[adj_node] = weight * decay\n",
    "                            else:\n",
    "                                adjacent_nodes[adj_node] = max(adjacent_nodes[adj_node], weight * decay)\n",
    "                scores = sorted(list(adjacent_nodes.items()), key = lambda x: -x[1])[:4]\n",
    "                conv_scores = [(graph.vertex_to_product[score[0]], score[1]) for score in scores] + [best_five_recommend[0]]\n",
    "#                 conv_scores = best_five_recommend\n",
    "                return conv_scores\n",
    "\n",
    "        import os\n",
    "        i = 1\n",
    "        while os.path.isfile(f\"recommendations{i}.csv\"):\n",
    "        #     print(\"file exists\")\n",
    "            i += 1\n",
    "        else:\n",
    "            with open(f\"recommendations{i}.csv\", 'w') as f:\n",
    "                f.write('customer_id,product_id\\n')\n",
    "                flag = False\n",
    "                for customer in target_group:\n",
    "                    output = recommendations(customer)\n",
    "                    if not flag and customer in customer_adjacency:\n",
    "                        print(i, output)\n",
    "                        flag = True\n",
    "                    for x in output:\n",
    "                        f.write(customer + str(',') + x[0] + str('\\n'))"
   ]
  },
  {
   "cell_type": "code",
   "execution_count": null,
   "metadata": {},
   "outputs": [],
   "source": []
  },
  {
   "cell_type": "code",
   "execution_count": null,
   "metadata": {},
   "outputs": [],
   "source": []
  },
  {
   "cell_type": "code",
   "execution_count": null,
   "metadata": {},
   "outputs": [],
   "source": []
  },
  {
   "cell_type": "code",
   "execution_count": null,
   "metadata": {},
   "outputs": [],
   "source": []
  }
 ],
 "metadata": {
  "kernelspec": {
   "display_name": "Python 3 (ipykernel)",
   "language": "python",
   "name": "python3"
  },
  "language_info": {
   "codemirror_mode": {
    "name": "ipython",
    "version": 3
   },
   "file_extension": ".py",
   "mimetype": "text/x-python",
   "name": "python",
   "nbconvert_exporter": "python",
   "pygments_lexer": "ipython3",
   "version": "3.8.5"
  }
 },
 "nbformat": 4,
 "nbformat_minor": 2
}
